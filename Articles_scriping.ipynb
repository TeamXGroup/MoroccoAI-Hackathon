{
 "cells": [
  {
   "cell_type": "code",
   "execution_count": 58,
   "id": "1bb9d00f-4744-43cb-a479-cec77438179c",
   "metadata": {
    "tags": []
   },
   "outputs": [],
   "source": [
    "import pandas as pd\n",
    "import aiohttp\n",
    "import asyncio\n",
    "from bs4 import BeautifulSoup\n"
   ]
  },
  {
   "cell_type": "code",
   "execution_count": 60,
   "id": "fe54e450-3f61-4b29-8a6b-25fd20327b90",
   "metadata": {
    "tags": []
   },
   "outputs": [
    {
     "data": {
      "text/html": [
       "<div>\n",
       "<style scoped>\n",
       "    .dataframe tbody tr th:only-of-type {\n",
       "        vertical-align: middle;\n",
       "    }\n",
       "\n",
       "    .dataframe tbody tr th {\n",
       "        vertical-align: top;\n",
       "    }\n",
       "\n",
       "    .dataframe thead th {\n",
       "        text-align: right;\n",
       "    }\n",
       "</style>\n",
       "<table border=\"1\" class=\"dataframe\">\n",
       "  <thead>\n",
       "    <tr style=\"text-align: right;\">\n",
       "      <th></th>\n",
       "      <th>Title</th>\n",
       "      <th>Link</th>\n",
       "    </tr>\n",
       "  </thead>\n",
       "  <tbody>\n",
       "    <tr>\n",
       "      <th>0</th>\n",
       "      <td>Cardboard and Waste Recycling: 3 Genius Recycl...</td>\n",
       "      <td>https://www.instructables.com/Cardboard-and-Wa...</td>\n",
       "    </tr>\n",
       "    <tr>\n",
       "      <th>1</th>\n",
       "      <td>Recycling PET Plastic to Filament</td>\n",
       "      <td>https://www.instructables.com/Recycling-PET-Pl...</td>\n",
       "    </tr>\n",
       "    <tr>\n",
       "      <th>2</th>\n",
       "      <td>Recycling Bin for Kids Made From Recycled Card...</td>\n",
       "      <td>https://www.instructables.com/Recycling-Bin-fo...</td>\n",
       "    </tr>\n",
       "    <tr>\n",
       "      <th>3</th>\n",
       "      <td>Cardboard to Plant Pots by Recycling Waste Pap...</td>\n",
       "      <td>https://www.instructables.com/Cardboard-to-Pla...</td>\n",
       "    </tr>\n",
       "    <tr>\n",
       "      <th>4</th>\n",
       "      <td>System of Recycling Trash (SORT)</td>\n",
       "      <td>https://www.instructables.com/System-of-Recycl...</td>\n",
       "    </tr>\n",
       "  </tbody>\n",
       "</table>\n",
       "</div>"
      ],
      "text/plain": [
       "                                               Title  \\\n",
       "0  Cardboard and Waste Recycling: 3 Genius Recycl...   \n",
       "1                  Recycling PET Plastic to Filament   \n",
       "2  Recycling Bin for Kids Made From Recycled Card...   \n",
       "3  Cardboard to Plant Pots by Recycling Waste Pap...   \n",
       "4                   System of Recycling Trash (SORT)   \n",
       "\n",
       "                                                Link  \n",
       "0  https://www.instructables.com/Cardboard-and-Wa...  \n",
       "1  https://www.instructables.com/Recycling-PET-Pl...  \n",
       "2  https://www.instructables.com/Recycling-Bin-fo...  \n",
       "3  https://www.instructables.com/Cardboard-to-Pla...  \n",
       "4  https://www.instructables.com/System-of-Recycl...  "
      ]
     },
     "execution_count": 60,
     "metadata": {},
     "output_type": "execute_result"
    }
   ],
   "source": [
    "linksdataset=pd.read_csv(r\"C:\\Users\\Otman-INFO\\Downloads\\linksdataset.xls\")\n",
    "linksdataset.head()"
   ]
  },
  {
   "cell_type": "markdown",
   "id": "7afccb78-af7f-454c-a909-d5d667f262fd",
   "metadata": {},
   "source": [
    "## Extract content of each Article"
   ]
  },
  {
   "cell_type": "markdown",
   "id": "e8553d7e-b13a-4bd3-b869-cf9af427fab7",
   "metadata": {},
   "source": [
    "#### Option 1 : you can use this code in jupyterNotbook"
   ]
  },
  {
   "cell_type": "code",
   "execution_count": 10,
   "id": "0ecbec0d-5a0c-4495-9598-5cdeeade6d21",
   "metadata": {},
   "outputs": [],
   "source": [
    "def extract_content(url):\n",
    "    \n",
    "    try:\n",
    "        # Step 2: Fetch the webpage content\n",
    "        response = requests.get(url)\n",
    "        response.raise_for_status()  # Raise an error for bad responses (4xx and 5xx)\n",
    "\n",
    "        # Step 3: Parse the content using BeautifulSoup\n",
    "        soup = BeautifulSoup(response.text, 'html.parser')\n",
    "\n",
    "        # Step 4: Extract all text from the page\n",
    "        text = soup.get_text(separator='\\n')  # Use a separator to keep readability\n",
    "        \n",
    "        return text\n",
    "\n",
    "    except requests.exceptions.RequestException as e:\n",
    "        return print(f\"An error occurred: {e}\")"
   ]
  },
  {
   "cell_type": "markdown",
   "id": "c94b7511-8aa4-4508-86f3-8a03a6504c40",
   "metadata": {},
   "source": [
    "#### Option 2 : you can use this code in Google Colab"
   ]
  },
  {
   "cell_type": "code",
   "execution_count": null,
   "id": "180a80b9-c379-480a-8d6a-d81d73257754",
   "metadata": {},
   "outputs": [],
   "source": [
    "import pandas as pd\n",
    "import aiohttp\n",
    "import asyncio\n",
    "from bs4 import BeautifulSoup\n",
    "\n",
    "# Assuming your full DataFrame looks like this (with more rows in the 'Link' column)\n",
    "\n",
    "data = pd.read_csv('/content/drive/MyDrive/linksdata/linksdataset.xls')\n",
    "\n",
    "# Get all the links from the 'Link' column\n",
    "urls_to_scrape = data['Link'].tolist()\n",
    "\n",
    "async def fetch_url(session, url):\n",
    "    try:\n",
    "        async with session.get(url) as response:\n",
    "            html = await response.text()\n",
    "            soup = BeautifulSoup(html, 'html.parser')\n",
    "            text = soup.get_text(separator='\\n')\n",
    "            return text\n",
    "    except Exception as e:\n",
    "        print(f\"Error fetching {url}: {e}\")\n",
    "        return None\n",
    "\n",
    "async def fetch_all(urls):\n",
    "    async with aiohttp.ClientSession() as session:\n",
    "        tasks = [fetch_url(session, url) for url in urls]\n",
    "        return await asyncio.gather(*tasks)\n",
    "\n",
    "\n",
    "text_results = await fetch_all(urls_to_scrape)\n",
    "\n",
    "# Add the scraped content back to the DataFrame\n",
    "data['Scraped_Text'] = text_results"
   ]
  },
  {
   "cell_type": "code",
   "execution_count": 63,
   "id": "5083f170-d833-4a8e-b631-3811b1eb0b5b",
   "metadata": {
    "tags": []
   },
   "outputs": [
    {
     "data": {
      "text/html": [
       "<div>\n",
       "<style scoped>\n",
       "    .dataframe tbody tr th:only-of-type {\n",
       "        vertical-align: middle;\n",
       "    }\n",
       "\n",
       "    .dataframe tbody tr th {\n",
       "        vertical-align: top;\n",
       "    }\n",
       "\n",
       "    .dataframe thead th {\n",
       "        text-align: right;\n",
       "    }\n",
       "</style>\n",
       "<table border=\"1\" class=\"dataframe\">\n",
       "  <thead>\n",
       "    <tr style=\"text-align: right;\">\n",
       "      <th></th>\n",
       "      <th>Title</th>\n",
       "      <th>Link</th>\n",
       "      <th>Scraped_Text</th>\n",
       "    </tr>\n",
       "  </thead>\n",
       "  <tbody>\n",
       "    <tr>\n",
       "      <th>0</th>\n",
       "      <td>Cardboard and Waste Recycling: 3 Genius Recycl...</td>\n",
       "      <td>https://www.instructables.com/Cardboard-and-Wa...</td>\n",
       "      <td>Cardboard and Waste Recycling: 3 Genius Recycl...</td>\n",
       "    </tr>\n",
       "    <tr>\n",
       "      <th>1</th>\n",
       "      <td>Recycling PET Plastic to Filament</td>\n",
       "      <td>https://www.instructables.com/Recycling-PET-Pl...</td>\n",
       "      <td>Recycling PET Plastic to Filament : 7 Steps (w...</td>\n",
       "    </tr>\n",
       "    <tr>\n",
       "      <th>2</th>\n",
       "      <td>Recycling Bin for Kids Made From Recycled Card...</td>\n",
       "      <td>https://www.instructables.com/Recycling-Bin-fo...</td>\n",
       "      <td>Recycling Bin for Kids Made From Recycled Card...</td>\n",
       "    </tr>\n",
       "    <tr>\n",
       "      <th>3</th>\n",
       "      <td>Cardboard to Plant Pots by Recycling Waste Pap...</td>\n",
       "      <td>https://www.instructables.com/Cardboard-to-Pla...</td>\n",
       "      <td>Cardboard to Plant Pots by Recycling Waste Pap...</td>\n",
       "    </tr>\n",
       "    <tr>\n",
       "      <th>4</th>\n",
       "      <td>System of Recycling Trash (SORT)</td>\n",
       "      <td>https://www.instructables.com/System-of-Recycl...</td>\n",
       "      <td>System of Recycling Trash (SORT) : 5 Steps - I...</td>\n",
       "    </tr>\n",
       "  </tbody>\n",
       "</table>\n",
       "</div>"
      ],
      "text/plain": [
       "                                               Title  \\\n",
       "0  Cardboard and Waste Recycling: 3 Genius Recycl...   \n",
       "1                  Recycling PET Plastic to Filament   \n",
       "2  Recycling Bin for Kids Made From Recycled Card...   \n",
       "3  Cardboard to Plant Pots by Recycling Waste Pap...   \n",
       "4                   System of Recycling Trash (SORT)   \n",
       "\n",
       "                                                Link  \\\n",
       "0  https://www.instructables.com/Cardboard-and-Wa...   \n",
       "1  https://www.instructables.com/Recycling-PET-Pl...   \n",
       "2  https://www.instructables.com/Recycling-Bin-fo...   \n",
       "3  https://www.instructables.com/Cardboard-to-Pla...   \n",
       "4  https://www.instructables.com/System-of-Recycl...   \n",
       "\n",
       "                                        Scraped_Text  \n",
       "0  Cardboard and Waste Recycling: 3 Genius Recycl...  \n",
       "1  Recycling PET Plastic to Filament : 7 Steps (w...  \n",
       "2  Recycling Bin for Kids Made From Recycled Card...  \n",
       "3  Cardboard to Plant Pots by Recycling Waste Pap...  \n",
       "4  System of Recycling Trash (SORT) : 5 Steps - I...  "
      ]
     },
     "execution_count": 63,
     "metadata": {},
     "output_type": "execute_result"
    }
   ],
   "source": [
    "data=pd.read_csv(r\"C:\\Users\\Otman-INFO\\Downloads\\content.csv\")\n",
    "data.head()"
   ]
  },
  {
   "cell_type": "markdown",
   "id": "0139c35d-1707-4d19-8818-237dab3e72f5",
   "metadata": {},
   "source": [
    "## Data Preprocessing"
   ]
  },
  {
   "cell_type": "code",
   "execution_count": 64,
   "id": "c0c497e7-4c86-4c33-992a-cb992678ff7f",
   "metadata": {
    "tags": []
   },
   "outputs": [],
   "source": [
    "def process_text(text):\n",
    "    # Check if the input is a string, then process it\n",
    "    if isinstance(text, str):\n",
    "        # Step 1: Remove everything after the specified string (\"\\nCategories\\nCircuits\\n\")\n",
    "        text = text.split(\"\\nCategories\\nCircuits\\n\")[0]\n",
    "        \n",
    "        # Step 2: Replace newlines with spaces\n",
    "        text = text.replace(\"\\n\", \" \")\n",
    "        \n",
    "        # Step 3: Remove specific unwanted string\n",
    "        text = text.replace(\"- Instructables                  Projects                               Contests                               Teachers\", \"\")\n",
    "        \n",
    "        # Step 4: Replace multiple spaces with a single space\n",
    "        text = re.sub(r'\\s{2,}', ' ', text)\n",
    "        \n",
    "        # Step 5: Remove emojis\n",
    "        emoji_pattern = re.compile(\"[\\U00010000-\\U0010ffff]\", flags=re.UNICODE)\n",
    "        text = emoji_pattern.sub(r'', text)\n",
    "        \n",
    "    return text"
   ]
  },
  {
   "cell_type": "code",
   "execution_count": 65,
   "id": "7b592f6c-8273-4cc9-b33d-61650275f078",
   "metadata": {
    "tags": []
   },
   "outputs": [],
   "source": [
    "data[\"Scraped_Text\"]=data[\"Scraped_Text\"].apply(process_text)"
   ]
  },
  {
   "cell_type": "code",
   "execution_count": 66,
   "id": "11caaef0-2bee-4d96-a060-bda275787367",
   "metadata": {
    "tags": []
   },
   "outputs": [
    {
     "data": {
      "text/html": [
       "<div>\n",
       "<style scoped>\n",
       "    .dataframe tbody tr th:only-of-type {\n",
       "        vertical-align: middle;\n",
       "    }\n",
       "\n",
       "    .dataframe tbody tr th {\n",
       "        vertical-align: top;\n",
       "    }\n",
       "\n",
       "    .dataframe thead th {\n",
       "        text-align: right;\n",
       "    }\n",
       "</style>\n",
       "<table border=\"1\" class=\"dataframe\">\n",
       "  <thead>\n",
       "    <tr style=\"text-align: right;\">\n",
       "      <th></th>\n",
       "      <th>Title</th>\n",
       "      <th>Link</th>\n",
       "      <th>Scraped_Text</th>\n",
       "    </tr>\n",
       "  </thead>\n",
       "  <tbody>\n",
       "    <tr>\n",
       "      <th>0</th>\n",
       "      <td>Cardboard and Waste Recycling: 3 Genius Recycl...</td>\n",
       "      <td>https://www.instructables.com/Cardboard-and-Wa...</td>\n",
       "      <td>Cardboard and Waste Recycling: 3 Genius Recycl...</td>\n",
       "    </tr>\n",
       "    <tr>\n",
       "      <th>1</th>\n",
       "      <td>Recycling PET Plastic to Filament</td>\n",
       "      <td>https://www.instructables.com/Recycling-PET-Pl...</td>\n",
       "      <td>Recycling PET Plastic to Filament : 7 Steps (w...</td>\n",
       "    </tr>\n",
       "    <tr>\n",
       "      <th>2</th>\n",
       "      <td>Recycling Bin for Kids Made From Recycled Card...</td>\n",
       "      <td>https://www.instructables.com/Recycling-Bin-fo...</td>\n",
       "      <td>Recycling Bin for Kids Made From Recycled Card...</td>\n",
       "    </tr>\n",
       "    <tr>\n",
       "      <th>3</th>\n",
       "      <td>Cardboard to Plant Pots by Recycling Waste Pap...</td>\n",
       "      <td>https://www.instructables.com/Cardboard-to-Pla...</td>\n",
       "      <td>Cardboard to Plant Pots by Recycling Waste Pap...</td>\n",
       "    </tr>\n",
       "    <tr>\n",
       "      <th>4</th>\n",
       "      <td>System of Recycling Trash (SORT)</td>\n",
       "      <td>https://www.instructables.com/System-of-Recycl...</td>\n",
       "      <td>System of Recycling Trash (SORT) : 5 Steps Sys...</td>\n",
       "    </tr>\n",
       "  </tbody>\n",
       "</table>\n",
       "</div>"
      ],
      "text/plain": [
       "                                               Title  \\\n",
       "0  Cardboard and Waste Recycling: 3 Genius Recycl...   \n",
       "1                  Recycling PET Plastic to Filament   \n",
       "2  Recycling Bin for Kids Made From Recycled Card...   \n",
       "3  Cardboard to Plant Pots by Recycling Waste Pap...   \n",
       "4                   System of Recycling Trash (SORT)   \n",
       "\n",
       "                                                Link  \\\n",
       "0  https://www.instructables.com/Cardboard-and-Wa...   \n",
       "1  https://www.instructables.com/Recycling-PET-Pl...   \n",
       "2  https://www.instructables.com/Recycling-Bin-fo...   \n",
       "3  https://www.instructables.com/Cardboard-to-Pla...   \n",
       "4  https://www.instructables.com/System-of-Recycl...   \n",
       "\n",
       "                                        Scraped_Text  \n",
       "0  Cardboard and Waste Recycling: 3 Genius Recycl...  \n",
       "1  Recycling PET Plastic to Filament : 7 Steps (w...  \n",
       "2  Recycling Bin for Kids Made From Recycled Card...  \n",
       "3  Cardboard to Plant Pots by Recycling Waste Pap...  \n",
       "4  System of Recycling Trash (SORT) : 5 Steps Sys...  "
      ]
     },
     "execution_count": 66,
     "metadata": {},
     "output_type": "execute_result"
    }
   ],
   "source": [
    "data.head()"
   ]
  },
  {
   "cell_type": "code",
   "execution_count": 67,
   "id": "812b35c4-bebd-45d8-b1e8-f12da10565e4",
   "metadata": {
    "tags": []
   },
   "outputs": [
    {
     "data": {
      "text/plain": [
       "Title           0\n",
       "Link            0\n",
       "Scraped_Text    0\n",
       "dtype: int64"
      ]
     },
     "execution_count": 67,
     "metadata": {},
     "output_type": "execute_result"
    }
   ],
   "source": [
    "data.isnull().sum()"
   ]
  },
  {
   "cell_type": "code",
   "execution_count": 68,
   "id": "a9222096-1c0b-4a56-8e65-696816cb4e23",
   "metadata": {
    "tags": []
   },
   "outputs": [
    {
     "data": {
      "text/plain": [
       "(19868, 3)"
      ]
     },
     "execution_count": 68,
     "metadata": {},
     "output_type": "execute_result"
    }
   ],
   "source": [
    "data.shape"
   ]
  },
  {
   "cell_type": "code",
   "execution_count": 69,
   "id": "e0f4573d-38f9-42f3-ba6f-4570aad6e8a7",
   "metadata": {
    "tags": []
   },
   "outputs": [
    {
     "data": {
      "text/plain": [
       "4"
      ]
     },
     "execution_count": 69,
     "metadata": {},
     "output_type": "execute_result"
    }
   ],
   "source": [
    "data['Scraped_Text'].duplicated().sum()"
   ]
  },
  {
   "cell_type": "code",
   "execution_count": 70,
   "id": "93dea8d8-ce5a-41e6-8d05-c4aad9c30787",
   "metadata": {
    "tags": []
   },
   "outputs": [
    {
     "data": {
      "text/html": [
       "<div>\n",
       "<style scoped>\n",
       "    .dataframe tbody tr th:only-of-type {\n",
       "        vertical-align: middle;\n",
       "    }\n",
       "\n",
       "    .dataframe tbody tr th {\n",
       "        vertical-align: top;\n",
       "    }\n",
       "\n",
       "    .dataframe thead th {\n",
       "        text-align: right;\n",
       "    }\n",
       "</style>\n",
       "<table border=\"1\" class=\"dataframe\">\n",
       "  <thead>\n",
       "    <tr style=\"text-align: right;\">\n",
       "      <th></th>\n",
       "      <th>Title</th>\n",
       "      <th>Link</th>\n",
       "      <th>Scraped_Text</th>\n",
       "    </tr>\n",
       "  </thead>\n",
       "  <tbody>\n",
       "    <tr>\n",
       "      <th>9483</th>\n",
       "      <td>Leather-Bound Floating Book Shelf</td>\n",
       "      <td>https://www.instructables.com/Leather-Bound-Fl...</td>\n",
       "      <td>Page Not Found 404: We're sorry, things break ...</td>\n",
       "    </tr>\n",
       "    <tr>\n",
       "      <th>9568</th>\n",
       "      <td>Make a Four-Tone Junk Trumpet</td>\n",
       "      <td>https://www.instructables.com/Make-a-Four-Tone...</td>\n",
       "      <td>Page Not Found 404: We're sorry, things break ...</td>\n",
       "    </tr>\n",
       "    <tr>\n",
       "      <th>9694</th>\n",
       "      <td>Keep Talking and Nobody Explodes Bomb</td>\n",
       "      <td>https://www.instructables.com/Keep-Talking-and...</td>\n",
       "      <td>Page Not Found 404: We're sorry, things break ...</td>\n",
       "    </tr>\n",
       "    <tr>\n",
       "      <th>13377</th>\n",
       "      <td>How To: Make Curved-Fold Origami Sculptures</td>\n",
       "      <td>https://www.instructables.com/How-To-Curved-Fo...</td>\n",
       "      <td>Page Not Found 404: We're sorry, things break ...</td>\n",
       "    </tr>\n",
       "  </tbody>\n",
       "</table>\n",
       "</div>"
      ],
      "text/plain": [
       "                                             Title  \\\n",
       "9483             Leather-Bound Floating Book Shelf   \n",
       "9568                 Make a Four-Tone Junk Trumpet   \n",
       "9694         Keep Talking and Nobody Explodes Bomb   \n",
       "13377  How To: Make Curved-Fold Origami Sculptures   \n",
       "\n",
       "                                                    Link  \\\n",
       "9483   https://www.instructables.com/Leather-Bound-Fl...   \n",
       "9568   https://www.instructables.com/Make-a-Four-Tone...   \n",
       "9694   https://www.instructables.com/Keep-Talking-and...   \n",
       "13377  https://www.instructables.com/How-To-Curved-Fo...   \n",
       "\n",
       "                                            Scraped_Text  \n",
       "9483   Page Not Found 404: We're sorry, things break ...  \n",
       "9568   Page Not Found 404: We're sorry, things break ...  \n",
       "9694   Page Not Found 404: We're sorry, things break ...  \n",
       "13377  Page Not Found 404: We're sorry, things break ...  "
      ]
     },
     "execution_count": 70,
     "metadata": {},
     "output_type": "execute_result"
    }
   ],
   "source": [
    "data[data['Scraped_Text'].duplicated()]"
   ]
  },
  {
   "cell_type": "code",
   "execution_count": 71,
   "id": "e0fdd523-5d99-44c1-acf8-9598024a4b2f",
   "metadata": {
    "tags": []
   },
   "outputs": [],
   "source": [
    "data = data[data['Scraped_Text'] != data['Scraped_Text'][9483]]"
   ]
  },
  {
   "cell_type": "code",
   "execution_count": 72,
   "id": "8425d61b-df83-4ef8-9209-779656e146df",
   "metadata": {
    "tags": []
   },
   "outputs": [
    {
     "data": {
      "text/plain": [
       "(19863, 3)"
      ]
     },
     "execution_count": 72,
     "metadata": {},
     "output_type": "execute_result"
    }
   ],
   "source": [
    "data.shape"
   ]
  },
  {
   "cell_type": "code",
   "execution_count": 73,
   "id": "b2496534-6083-4c9c-99e3-8a705284cc2d",
   "metadata": {
    "tags": []
   },
   "outputs": [
    {
     "data": {
      "text/plain": [
       "0"
      ]
     },
     "execution_count": 73,
     "metadata": {},
     "output_type": "execute_result"
    }
   ],
   "source": [
    "data['Scraped_Text'].duplicated().sum()"
   ]
  },
  {
   "cell_type": "markdown",
   "id": "f567558a-f605-4f72-bd64-4cb4ae591cb4",
   "metadata": {},
   "source": [
    "### Extract Introduction , Supplies and Steps from Articles"
   ]
  },
  {
   "cell_type": "code",
   "execution_count": 74,
   "id": "1be4284f-e854-4656-8332-4a5fb80eb319",
   "metadata": {
    "tags": []
   },
   "outputs": [],
   "source": [
    "import requests\n",
    "import pandas as pd\n",
    "import re\n",
    "import json\n",
    "import time\n",
    "\n",
    "\n",
    "def custom_text_splitter(text):\n",
    "    # Define regex to match section headers including \"Supplies\" and steps\n",
    "    section_pattern = re.compile(r\"(Supplies|Step \\d+:|Step \\d+|Introduction):\", re.IGNORECASE)\n",
    "\n",
    "    # Split the text at each match and keep the delimiter as part of the split\n",
    "    splits = section_pattern.split(text)\n",
    "\n",
    "    # Combine splits into header-content pairs\n",
    "    result = []\n",
    "    for i in range(1, len(splits), 2):  # Start at 1 to skip any pre-header content\n",
    "        header = splits[i].strip()\n",
    "        content = splits[i + 1].strip() if i + 1 < len(splits) else \"\"\n",
    "\n",
    "        if header == 'Introduction':\n",
    "            title = content.split('\\n')[0]\n",
    "            result.append({\"header\": 'Title', \"content\": title})\n",
    "            supplies = content.split('Supplies')\n",
    "            if len(supplies) > 1:\n",
    "                supplies = supplies[1]\n",
    "                result.append({\"header\": 'Supplies', \"content\": supplies})\n",
    "\n",
    "        elif i == len(splits)-1 or i == len(splits)-2:\n",
    "            split_words = ['Categories', 'Recommendations', 'Be the First to Share',\n",
    "            'Did you make this project?', 'I Made It', 'Comment',\n",
    "            'Comments', ]\n",
    "            for word in split_words:\n",
    "                if word in content:\n",
    "                    # Split text on the first occurrence of the word\n",
    "                    content = re.split(f\"({re.escape(word)})\", content, maxsplit=1)\n",
    "                    content = content[0]\n",
    "\n",
    "            result.append({\"header\": header, \"content\": content})\n",
    "\n",
    "        else:\n",
    "            result.append({\"header\": header, \"content\": content})\n",
    "\n",
    "    return result"
   ]
  },
  {
   "cell_type": "code",
   "execution_count": 76,
   "id": "5d188acb-da5c-46d5-96fe-3790eacb3e6b",
   "metadata": {
    "tags": []
   },
   "outputs": [],
   "source": [
    "data['extract_steps...']=data['Scraped_Text'].apply(custom_text_splitter)"
   ]
  },
  {
   "cell_type": "code",
   "execution_count": 77,
   "id": "ddfd2fa9-f958-4fc1-9f3b-aca51d57b8cb",
   "metadata": {
    "tags": []
   },
   "outputs": [
    {
     "data": {
      "text/plain": [
       "[{'header': 'Title',\n",
       "  'content': \"Cardboard and Waste Recycling: 3 Genius Recycling Ideas That Will Surprise You! By MORENA DIY Follow More by the author: I excited to show you three genius recycling ideas that will inspire you to think differently about cardboard and other waste materials! ♻️✨ You won't believe how simple and enjoyable it is to turn everyday items, like used cardboard and other materials, into useful and creative projects. These eco-friendly DIY hacks are not only practical but also a great way to reduce waste and give new life to materials that would otherwise end up in the trash.\"},\n",
       " {'header': 'Step 1',\n",
       "  'content': \"DIY Flower Pot Stand or Storage Organizer In this project, we take simple cardboard and bamboo skewers and turn them into a stylish stand that’s perfect for flower pots or as a small storage organizer! - Measuring and Marking the Cardboard You are measuring the cardboard using a ruler and a pencil. To begin the project, place your cardboard on a flat surface and measure a precise length or width according to the project requirements (you can specify sizes depending on your design). Use the ruler to draw straight lines for cutting. - Creating a Zigzag Design You are drawing a zigzag pattern on the cardboard. This step involves marking a continuous zigzag shape along the length of the cardboard. Using a pencil and ruler, carefully trace out equal and sharp zigzag points to achieve a symmetrical design. This pattern will later be cut out. - Cutting the Zigzag After drawing the zigzag pattern, you will need a sharp tool like a craft knife or scissors to cut along the lines you marked earlier. Make sure to cut smoothly and accurately to maintain the shape of the zigzag design. - Peeling the Top Layer for Texture You're peeling the top layer off the corrugated cardboard to reveal the textured middle layer. This step adds a decorative, ridged texture to your project. Carefully peel away the top surface along the zigzag cutouts to expose the corrugated layer underneath. You can use this texture to enhance the appearance of the design, giving it a more dynamic and aesthetic look. - Painting the details Using a brush and acrylic paint, we will paint all three details on both sides.\"},\n",
       " {'header': 'Step 2',\n",
       "  'content': 'Follow the Following Steps! - Secure with Wooden Skewers: Insert long wooden skewers of the cardboard pieces. This helps to secure the pieces together and provides structure to the base. - Glue 2 Circular Pieces: Using hot glue, attach two circular cardboard pieces together. This will form a bottom of the decoration!. - Attach the Structure: In the image, you can see how the zigzag cardboard piece with inserted sticks is now being glued to the circular cardboard base. This gives stability to the overall structure. - Final Assembly: Add additional hot glue along the edges to make sure everything is securely attached. Your structure should now stand upright and be stable enough for decorative use.'},\n",
       " {'header': 'Step 3',\n",
       "  'content': 'Stylish and Functional! Use this stand to hold flower pots or organizer items. It’s versatile, eco-friendly, super easy to make and so so beautiful!'},\n",
       " {'header': 'Step 4',\n",
       "  'content': 'DIY Cardboard Flower Vase For the second idea, we’ll show you how to create a beautiful flower vase using just cardboard, a cardboard tube, and cotton rope. It’s perfect for displaying artificial flowers or branches, and it’s a fantastic way to reuse household materials! - Start by cutting out multiple cardboard shapes in the form of petals or any geometric shape you like. These will be glued around the cardboard tube to form the body of the vase.'},\n",
       " {'header': 'Step 5',\n",
       "  'content': 'Preparing the Construction of the Vase! - Using hot glue, attach the cut cardboard pieces around the tube in a symmetrical fashion, forming a decorative vase structure. - Once the structure is complete, wrap cotton rope tightly around the vase, gluing it as you go to ensure it stays in place. This gives the vase a rustic, textured look. - Optionally, paint or decorate the rope in your favorite colors, and add artificial flowers or branches inside.'},\n",
       " {'header': 'Step 6',\n",
       "  'content': 'Now You Have a Beautiful and Functional Vase That Adds a Handmade Touch to Any Room!'},\n",
       " {'header': 'Step 7',\n",
       "  'content': \"DIY Tabletop Vase Decor In this idea, I'll show you how to create a unique tabletop decor piece using recycled cardboard tubes, colorful string, and a wooden board. This simple and eco-friendly DIY adds a charming touch to your home decor and can be displayed on a table, nightstand, or shelf. - Wrapping the Cardboard Tubes Start by taking your cardboard tubes and colorful string. Wrap the string tightly around each tube, covering it completely to add texture and color. Make sure the string is secure; you can add a bit hot glue at the start and end to keep it in place. - Preparing the Wooden Board Measure and cut the wooden board to your desired size – this will serve as the base for your tabletop decor. Paint the board with acrylic paint in a color that complements your decor style. Allow the paint to dry completely before moving to the next step. - Attaching the Tubes to the Board Once the paint is dry, arrange the wrapped tubes on the wooden board in a way that looks visually appealing. You can line them up or create a more random pattern. Use the hot glue gun to apply glue to the bottom of each tube, pressing it firmly onto the board. Hold each tube for a few seconds to ensure it sticks well. Repeat until all tubes are glued in place.\"},\n",
       " {'header': 'Step 8',\n",
       "  'content': 'Enjoy Your New Vase Display That Adds Color and Charm to Any Room! - Adding Decorative Elements After the glue has dried and the tubes are securely attached, your tabletop vase decor is ready to display! Insert artificial flowers, small branches, or even seasonal decorations like pine sprigs into the tubes for a personalized touch. Tips: To give the wooden board a polished look, you can sand the edges before painting. Experiment with different colors of string on each tube or even paint the tubes first for a unique effect. This tabletop decor piece is a great way to recycle materials and add a handcrafted touch to your space!'}]"
      ]
     },
     "execution_count": 77,
     "metadata": {},
     "output_type": "execute_result"
    }
   ],
   "source": [
    "data['extract_steps...'][0]"
   ]
  },
  {
   "cell_type": "markdown",
   "id": "ec301884-6b1f-4a8d-aa50-11ace8b9eb7b",
   "metadata": {},
   "source": [
    "### Save Finale Dataset"
   ]
  },
  {
   "cell_type": "code",
   "execution_count": null,
   "id": "a1e188fd-454f-4a63-b224-c87364a7edc3",
   "metadata": {},
   "outputs": [],
   "source": [
    "data.to_csv('finale_data_extracted.csv', index=False, encoding='utf-8')"
   ]
  },
  {
   "cell_type": "code",
   "execution_count": null,
   "id": "fd40a355-7361-409f-a0be-9762860fecd2",
   "metadata": {},
   "outputs": [],
   "source": []
  }
 ],
 "metadata": {
  "kernelspec": {
   "display_name": "Python 3 (ipykernel)",
   "language": "python",
   "name": "python3"
  },
  "language_info": {
   "codemirror_mode": {
    "name": "ipython",
    "version": 3
   },
   "file_extension": ".py",
   "mimetype": "text/x-python",
   "name": "python",
   "nbconvert_exporter": "python",
   "pygments_lexer": "ipython3",
   "version": "3.11.5"
  }
 },
 "nbformat": 4,
 "nbformat_minor": 5
}
