{
 "cells": [
  {
   "cell_type": "markdown",
   "id": "93d7ca09-5aaa-49d4-acda-c7ff94fa7c22",
   "metadata": {
    "tags": []
   },
   "source": [
    "## Extract Titles and links"
   ]
  },
  {
   "cell_type": "markdown",
   "id": "9eb8aae4-1c2f-46f6-bafe-8b9962029854",
   "metadata": {},
   "source": [
    "**here is the links off sites that contain recycling projects.**"
   ]
  },
  {
   "cell_type": "code",
   "execution_count": null,
   "id": "c0d8fb9e-9a45-470c-9fdd-537b036eabb9",
   "metadata": {},
   "outputs": [],
   "source": [
    "urls=['https://www.instructables.com/living/gardening/projects/',\n",
    "      'https://www.instructables.com/search/?q=recycle+Glass&projects=all',\n",
    "      'https://www.instructables.com/search/?q=recycle+carton&projects=all',\n",
    "      'https://www.instructables.com/search/?q=recycle+Electronics&projects=all',\n",
    "      'https://www.instructables.com/search/?q=recycle+Metal&projects=all',\n",
    "      'https://www.instructables.com/craft/printmaking/projects/?channel=leather&channel=mason-jars&channel=no-sew&channel=paper',\n",
    "      'https://www.instructables.com/craft/cardboard/projects/?channel=cards&channel=reuse&channel=wallets',\n",
    "      'https://www.instructables.com/search/?q=recycle+Plastic&projects=all',\n",
    "      'https://www.instructables.com/search/?q=recycling&projects=all',\n",
    "      'https://www.instructables.com/search/?q=how+to+recycle&projects=all',\n",
    "      'https://www.instructables.com/search/?q=bottles&projects=all']"
   ]
  },
  {
   "cell_type": "code",
   "execution_count": 6,
   "id": "4305f0eb-ea58-41de-9a7f-c7e8cf6ccf04",
   "metadata": {},
   "outputs": [],
   "source": [
    "import pandas as pd\n",
    "from selenium import webdriver\n",
    "from selenium.webdriver.chrome.service import Service\n",
    "from selenium.webdriver.common.by import By\n",
    "from bs4 import BeautifulSoup\n",
    "import time"
   ]
  },
  {
   "cell_type": "code",
   "execution_count": 112,
   "id": "67f38145-9279-4b4b-b056-3cc482ca4a6c",
   "metadata": {},
   "outputs": [
    {
     "name": "stdout",
     "output_type": "stream",
     "text": [
      "Reached the end of the page. No more articles to load.\n",
      "Collected 5220 articles:\n"
     ]
    }
   ],
   "source": [
    "driver_path = r\"C:\\Users\\hp\\Downloads\\chromedriver-win64\\chromedriver.exe\"  # Replace with your ChromeDriver path\n",
    "service = Service(driver_path)\n",
    "\n",
    "# Initialize the WebDriver\n",
    "driver = webdriver.Chrome(service=service)\n",
    "\n",
    "# URL of the website\n",
    "url = \"https://www.instructables.com/search/?q=bottles&projects=all\"\n",
    "driver.get(url)\n",
    "\n",
    "# Wait for the page to load\n",
    "driver.implicitly_wait(10)\n",
    "\n",
    "# Step 1: Click the \"Load All\" button\n",
    "try:\n",
    "    load_all_button = driver.find_element(By.CLASS_NAME, \"_button_156n2_17._loadAll_18rgo_1\")\n",
    "    load_all_button.click()\n",
    "    time.sleep(3)  # Wait for the action to complete\n",
    "except Exception as e:\n",
    "    print(\"Failed to find or click the 'Load All' button.\")\n",
    "    driver.quit()\n",
    "    raise\n",
    "\n",
    "# Step 2: Scroll to load articles dynamically\n",
    "desired_count = 6000  # Number of articles to scrape\n",
    "articles = []  # List to store unique article links\n",
    "titles = []  # List to store corresponding article titles\n",
    "scroll_pause_time = 3  # Time to pause after each scroll\n",
    "scroll_height = driver.execute_script(\"return document.body.scrollHeight\")\n",
    "\n",
    "while len(articles) < desired_count:\n",
    "    # Parse the current page source\n",
    "    soup = BeautifulSoup(driver.page_source, \"html.parser\")\n",
    "    \n",
    "    # Find all articles on the page\n",
    "    all_articles = soup.find_all(\"div\", class_=\"_ibleCard_1qrfl_24\")\n",
    "    \n",
    "    # Extract links and titles from the articles\n",
    "    for article in all_articles:\n",
    "        link_tag = article.find(\"a\")\n",
    "        if link_tag:\n",
    "            article_link = \"https://www.instructables.com\" + link_tag.attrs[\"href\"]\n",
    "            article_title = article.find(\"a\", class_=\"_title_1qrfl_47\")  # Title class\n",
    "            if article_link not in articles and article_title:\n",
    "                articles.append(article_link)  # Append link to list\n",
    "                titles.append(article_title.get_text().strip())  # Append title to list\n",
    "\n",
    "    # Scroll down to load more content\n",
    "    driver.execute_script(\"window.scrollTo(0, document.body.scrollHeight);\")\n",
    "    time.sleep(scroll_pause_time)  # Wait for new content to load\n",
    "    \n",
    "    # Check if scrolling has reached the bottom\n",
    "    new_scroll_height = driver.execute_script(\"return document.body.scrollHeight\")\n",
    "    if new_scroll_height == scroll_height:\n",
    "        print(\"Reached the end of the page. No more articles to load.\")\n",
    "        break\n",
    "    scroll_height = new_scroll_height\n",
    "\n",
    "# Limit the results to the desired number of links\n",
    "articles = articles[:desired_count]\n",
    "titles = titles[:desired_count]\n",
    "\n",
    "# Print the collected titles and links\n",
    "print(f\"Collected {len(articles)} articles:\")\n",
    "# Close the browser\n",
    "driver.quit()\n"
   ]
  },
  {
   "cell_type": "markdown",
   "id": "a30a33f7-164c-4002-bd29-2bb45e07c244",
   "metadata": {},
   "source": [
    "### Transform it into DataFrame"
   ]
  },
  {
   "cell_type": "code",
   "execution_count": 117,
   "id": "9470fc81-277f-4aef-9557-a391e2e4a897",
   "metadata": {
    "tags": []
   },
   "outputs": [
    {
     "data": {
      "text/html": [
       "<div>\n",
       "<style scoped>\n",
       "    .dataframe tbody tr th:only-of-type {\n",
       "        vertical-align: middle;\n",
       "    }\n",
       "\n",
       "    .dataframe tbody tr th {\n",
       "        vertical-align: top;\n",
       "    }\n",
       "\n",
       "    .dataframe thead th {\n",
       "        text-align: right;\n",
       "    }\n",
       "</style>\n",
       "<table border=\"1\" class=\"dataframe\">\n",
       "  <thead>\n",
       "    <tr style=\"text-align: right;\">\n",
       "      <th></th>\n",
       "      <th>Title</th>\n",
       "      <th>Link</th>\n",
       "    </tr>\n",
       "  </thead>\n",
       "  <tbody>\n",
       "    <tr>\n",
       "      <th>0</th>\n",
       "      <td>Eco-Art: Transforming Bottles Into Planters</td>\n",
       "      <td>https://www.instructables.com/Eco-Art-Transfor...</td>\n",
       "    </tr>\n",
       "    <tr>\n",
       "      <th>1</th>\n",
       "      <td>Fake Body Made Out of Plastic Bottles.</td>\n",
       "      <td>https://www.instructables.com/Fake-Body-Made-O...</td>\n",
       "    </tr>\n",
       "    <tr>\n",
       "      <th>2</th>\n",
       "      <td>PETFusion Machine: Turn Waste PET Bottles Into...</td>\n",
       "      <td>https://www.instructables.com/PETFusion-Machin...</td>\n",
       "    </tr>\n",
       "    <tr>\n",
       "      <th>3</th>\n",
       "      <td>Smart Plastic Bottles Waste-Management System</td>\n",
       "      <td>https://www.instructables.com/Smart-Plastic-Bo...</td>\n",
       "    </tr>\n",
       "    <tr>\n",
       "      <th>4</th>\n",
       "      <td>helping slouchy boots with old water bottles</td>\n",
       "      <td>https://www.instructables.com/helping-slouchy-...</td>\n",
       "    </tr>\n",
       "  </tbody>\n",
       "</table>\n",
       "</div>"
      ],
      "text/plain": [
       "                                               Title  \\\n",
       "0        Eco-Art: Transforming Bottles Into Planters   \n",
       "1             Fake Body Made Out of Plastic Bottles.   \n",
       "2  PETFusion Machine: Turn Waste PET Bottles Into...   \n",
       "3      Smart Plastic Bottles Waste-Management System   \n",
       "4       helping slouchy boots with old water bottles   \n",
       "\n",
       "                                                Link  \n",
       "0  https://www.instructables.com/Eco-Art-Transfor...  \n",
       "1  https://www.instructables.com/Fake-Body-Made-O...  \n",
       "2  https://www.instructables.com/PETFusion-Machin...  \n",
       "3  https://www.instructables.com/Smart-Plastic-Bo...  \n",
       "4  https://www.instructables.com/helping-slouchy-...  "
      ]
     },
     "execution_count": 117,
     "metadata": {},
     "output_type": "execute_result"
    }
   ],
   "source": [
    "# Create a DataFrame to store the results\n",
    "data= pd.DataFrame({\n",
    "    'Title': titles,\n",
    "    'Link': articles\n",
    "})\n",
    "\n",
    "# Print the DataFrame\n",
    "data.head()"
   ]
  },
  {
   "cell_type": "markdown",
   "id": "b7aa7eb7-4c93-4cc8-a98d-4d306cc754fe",
   "metadata": {},
   "source": [
    "### Save data"
   ]
  },
  {
   "cell_type": "code",
   "execution_count": 118,
   "id": "4ded49eb-6d73-47e7-b207-385558911447",
   "metadata": {
    "tags": []
   },
   "outputs": [],
   "source": [
    "data.to_csv('bottles.csv', index=False)"
   ]
  },
  {
   "cell_type": "markdown",
   "id": "950a8f8b-97d1-4e17-a05d-4ee0724d0324",
   "metadata": {},
   "source": [
    "## Concatenat Data and remove duplicate links"
   ]
  },
  {
   "cell_type": "code",
   "execution_count": 152,
   "id": "fc288f4d-9022-48b4-90fd-ae9395f1314f",
   "metadata": {
    "tags": []
   },
   "outputs": [],
   "source": [
    "recycling=pd.read_csv(\"recycling.csv\")\n",
    "recycleplastic=pd.read_csv(\"recycleplastic.csv\")\n",
    "recyclemetal=pd.read_csv(\"recyclemetal.csv\")\n",
    "recycleglass=pd.read_csv(\"recycleglass.csv\")\n",
    "recycleelectronics=pd.read_csv(\"recycleelectronics.csv\")\n",
    "recyclecarton=pd.read_csv(\"recyclecarton.csv\")\n",
    "living_gardening=pd.read_csv(\"living_gardening.csv\")\n",
    "how_to_recycle=pd.read_csv(\"how_to_recycle.csv\")\n",
    "craft2=pd.read_csv(\"craft2.csv\")\n",
    "craft1=pd.read_csv(\"craft1.csv\")\n",
    "bottles=pd.read_csv(\"bottles.csv\")\n"
   ]
  },
  {
   "cell_type": "code",
   "execution_count": 155,
   "id": "6149ba86-856e-421d-ba0c-b49914efe40a",
   "metadata": {},
   "outputs": [],
   "source": [
    "linksdataset = pd.concat([recycling, recycleplastic, recyclemetal,recycleglass,recycleelectronics,recyclecarton,living_gardening,how_to_recycle,craft2,craft1,bottles], ignore_index=True)"
   ]
  },
  {
   "cell_type": "code",
   "execution_count": 156,
   "id": "10143777-6933-485c-a741-f113fbc5f4c7",
   "metadata": {},
   "outputs": [
    {
     "data": {
      "text/plain": [
       "(24511, 2)"
      ]
     },
     "execution_count": 156,
     "metadata": {},
     "output_type": "execute_result"
    }
   ],
   "source": [
    "linksdataset.shape"
   ]
  },
  {
   "cell_type": "code",
   "execution_count": 157,
   "id": "51e7d084-29ab-47bf-9232-d4076fcd811c",
   "metadata": {},
   "outputs": [
    {
     "data": {
      "text/html": [
       "<div>\n",
       "<style scoped>\n",
       "    .dataframe tbody tr th:only-of-type {\n",
       "        vertical-align: middle;\n",
       "    }\n",
       "\n",
       "    .dataframe tbody tr th {\n",
       "        vertical-align: top;\n",
       "    }\n",
       "\n",
       "    .dataframe thead th {\n",
       "        text-align: right;\n",
       "    }\n",
       "</style>\n",
       "<table border=\"1\" class=\"dataframe\">\n",
       "  <thead>\n",
       "    <tr style=\"text-align: right;\">\n",
       "      <th></th>\n",
       "      <th>Title</th>\n",
       "      <th>Link</th>\n",
       "    </tr>\n",
       "  </thead>\n",
       "  <tbody>\n",
       "    <tr>\n",
       "      <th>0</th>\n",
       "      <td>Cardboard and Waste Recycling: 3 Genius Recycl...</td>\n",
       "      <td>https://www.instructables.com/Cardboard-and-Wa...</td>\n",
       "    </tr>\n",
       "    <tr>\n",
       "      <th>1</th>\n",
       "      <td>Recycling PET Plastic to Filament</td>\n",
       "      <td>https://www.instructables.com/Recycling-PET-Pl...</td>\n",
       "    </tr>\n",
       "    <tr>\n",
       "      <th>2</th>\n",
       "      <td>Recycling Bin for Kids Made From Recycled Card...</td>\n",
       "      <td>https://www.instructables.com/Recycling-Bin-fo...</td>\n",
       "    </tr>\n",
       "    <tr>\n",
       "      <th>3</th>\n",
       "      <td>Cardboard to Plant Pots by Recycling Waste Pap...</td>\n",
       "      <td>https://www.instructables.com/Cardboard-to-Pla...</td>\n",
       "    </tr>\n",
       "    <tr>\n",
       "      <th>4</th>\n",
       "      <td>System of Recycling Trash (SORT)</td>\n",
       "      <td>https://www.instructables.com/System-of-Recycl...</td>\n",
       "    </tr>\n",
       "  </tbody>\n",
       "</table>\n",
       "</div>"
      ],
      "text/plain": [
       "                                               Title  \\\n",
       "0  Cardboard and Waste Recycling: 3 Genius Recycl...   \n",
       "1                  Recycling PET Plastic to Filament   \n",
       "2  Recycling Bin for Kids Made From Recycled Card...   \n",
       "3  Cardboard to Plant Pots by Recycling Waste Pap...   \n",
       "4                   System of Recycling Trash (SORT)   \n",
       "\n",
       "                                                Link  \n",
       "0  https://www.instructables.com/Cardboard-and-Wa...  \n",
       "1  https://www.instructables.com/Recycling-PET-Pl...  \n",
       "2  https://www.instructables.com/Recycling-Bin-fo...  \n",
       "3  https://www.instructables.com/Cardboard-to-Pla...  \n",
       "4  https://www.instructables.com/System-of-Recycl...  "
      ]
     },
     "execution_count": 157,
     "metadata": {},
     "output_type": "execute_result"
    }
   ],
   "source": [
    "linksdataset.head()"
   ]
  },
  {
   "cell_type": "code",
   "execution_count": 158,
   "id": "ab5d0554-5103-4cf2-9f27-8ca820c1a3cf",
   "metadata": {},
   "outputs": [
    {
     "data": {
      "text/plain": [
       "4643"
      ]
     },
     "execution_count": 158,
     "metadata": {},
     "output_type": "execute_result"
    }
   ],
   "source": [
    "linksdataset['Link'].duplicated().sum()"
   ]
  },
  {
   "cell_type": "code",
   "execution_count": 159,
   "id": "ee637eb8-5f18-4145-b044-e3e9621ceb9f",
   "metadata": {},
   "outputs": [],
   "source": [
    "linksdataset_no_duplicates_no_duplicates = linksdataset.drop_duplicates()"
   ]
  },
  {
   "cell_type": "code",
   "execution_count": 160,
   "id": "0b1c2bea-e982-4de6-832a-34cbf83d4ce2",
   "metadata": {},
   "outputs": [
    {
     "data": {
      "text/html": [
       "<div>\n",
       "<style scoped>\n",
       "    .dataframe tbody tr th:only-of-type {\n",
       "        vertical-align: middle;\n",
       "    }\n",
       "\n",
       "    .dataframe tbody tr th {\n",
       "        vertical-align: top;\n",
       "    }\n",
       "\n",
       "    .dataframe thead th {\n",
       "        text-align: right;\n",
       "    }\n",
       "</style>\n",
       "<table border=\"1\" class=\"dataframe\">\n",
       "  <thead>\n",
       "    <tr style=\"text-align: right;\">\n",
       "      <th></th>\n",
       "      <th>Title</th>\n",
       "      <th>Link</th>\n",
       "    </tr>\n",
       "  </thead>\n",
       "  <tbody>\n",
       "    <tr>\n",
       "      <th>0</th>\n",
       "      <td>Cardboard and Waste Recycling: 3 Genius Recycl...</td>\n",
       "      <td>https://www.instructables.com/Cardboard-and-Wa...</td>\n",
       "    </tr>\n",
       "    <tr>\n",
       "      <th>1</th>\n",
       "      <td>Recycling PET Plastic to Filament</td>\n",
       "      <td>https://www.instructables.com/Recycling-PET-Pl...</td>\n",
       "    </tr>\n",
       "    <tr>\n",
       "      <th>2</th>\n",
       "      <td>Recycling Bin for Kids Made From Recycled Card...</td>\n",
       "      <td>https://www.instructables.com/Recycling-Bin-fo...</td>\n",
       "    </tr>\n",
       "    <tr>\n",
       "      <th>3</th>\n",
       "      <td>Cardboard to Plant Pots by Recycling Waste Pap...</td>\n",
       "      <td>https://www.instructables.com/Cardboard-to-Pla...</td>\n",
       "    </tr>\n",
       "    <tr>\n",
       "      <th>4</th>\n",
       "      <td>System of Recycling Trash (SORT)</td>\n",
       "      <td>https://www.instructables.com/System-of-Recycl...</td>\n",
       "    </tr>\n",
       "    <tr>\n",
       "      <th>...</th>\n",
       "      <td>...</td>\n",
       "      <td>...</td>\n",
       "    </tr>\n",
       "    <tr>\n",
       "      <th>24506</th>\n",
       "      <td>Rocket Launch Lamp</td>\n",
       "      <td>https://www.instructables.com/Rocket-Launch-Lamp</td>\n",
       "    </tr>\n",
       "    <tr>\n",
       "      <th>24507</th>\n",
       "      <td>Seltzer Coke Bottle</td>\n",
       "      <td>https://www.instructables.com/Seltzer-Coke-Bottle</td>\n",
       "    </tr>\n",
       "    <tr>\n",
       "      <th>24508</th>\n",
       "      <td>Post-apocalyptic Plastic Bottle Club</td>\n",
       "      <td>https://www.instructables.com/Post-apocalyptic...</td>\n",
       "    </tr>\n",
       "    <tr>\n",
       "      <th>24509</th>\n",
       "      <td>Suzuki Marauder GZ125</td>\n",
       "      <td>https://www.instructables.com/Suzuki-Marauder-...</td>\n",
       "    </tr>\n",
       "    <tr>\n",
       "      <th>24510</th>\n",
       "      <td>Never Use the Wrong Color: How to Organize Paint</td>\n",
       "      <td>https://www.instructables.com/Never-Use-the-Wr...</td>\n",
       "    </tr>\n",
       "  </tbody>\n",
       "</table>\n",
       "<p>19868 rows × 2 columns</p>\n",
       "</div>"
      ],
      "text/plain": [
       "                                                   Title  \\\n",
       "0      Cardboard and Waste Recycling: 3 Genius Recycl...   \n",
       "1                      Recycling PET Plastic to Filament   \n",
       "2      Recycling Bin for Kids Made From Recycled Card...   \n",
       "3      Cardboard to Plant Pots by Recycling Waste Pap...   \n",
       "4                       System of Recycling Trash (SORT)   \n",
       "...                                                  ...   \n",
       "24506                                 Rocket Launch Lamp   \n",
       "24507                                Seltzer Coke Bottle   \n",
       "24508               Post-apocalyptic Plastic Bottle Club   \n",
       "24509                              Suzuki Marauder GZ125   \n",
       "24510   Never Use the Wrong Color: How to Organize Paint   \n",
       "\n",
       "                                                    Link  \n",
       "0      https://www.instructables.com/Cardboard-and-Wa...  \n",
       "1      https://www.instructables.com/Recycling-PET-Pl...  \n",
       "2      https://www.instructables.com/Recycling-Bin-fo...  \n",
       "3      https://www.instructables.com/Cardboard-to-Pla...  \n",
       "4      https://www.instructables.com/System-of-Recycl...  \n",
       "...                                                  ...  \n",
       "24506   https://www.instructables.com/Rocket-Launch-Lamp  \n",
       "24507  https://www.instructables.com/Seltzer-Coke-Bottle  \n",
       "24508  https://www.instructables.com/Post-apocalyptic...  \n",
       "24509  https://www.instructables.com/Suzuki-Marauder-...  \n",
       "24510  https://www.instructables.com/Never-Use-the-Wr...  \n",
       "\n",
       "[19868 rows x 2 columns]"
      ]
     },
     "execution_count": 160,
     "metadata": {},
     "output_type": "execute_result"
    }
   ],
   "source": [
    "linksdataset_no_duplicates"
   ]
  },
  {
   "cell_type": "code",
   "execution_count": 161,
   "id": "00ed1367-7bdc-400d-9d1f-fb46355d6141",
   "metadata": {},
   "outputs": [
    {
     "data": {
      "text/plain": [
       "(19868, 2)"
      ]
     },
     "execution_count": 161,
     "metadata": {},
     "output_type": "execute_result"
    }
   ],
   "source": [
    "linksdataset_no_duplicates.shape"
   ]
  },
  {
   "cell_type": "markdown",
   "id": "cd7550ff-1682-4ebd-bd82-c9108486c2a4",
   "metadata": {},
   "source": [
    "## save data of titles and links of each article project."
   ]
  },
  {
   "cell_type": "code",
   "execution_count": 151,
   "id": "78bd4336-1721-4469-88e0-ec3e85aa1359",
   "metadata": {},
   "outputs": [],
   "source": [
    "linksdataset_no_duplicates.to_csv('linksdatset.csv', index=False,encoding='utf-8')"
   ]
  }
 ],
 "metadata": {
  "kernelspec": {
   "display_name": "Python 3 (ipykernel)",
   "language": "python",
   "name": "python3"
  },
  "language_info": {
   "codemirror_mode": {
    "name": "ipython",
    "version": 3
   },
   "file_extension": ".py",
   "mimetype": "text/x-python",
   "name": "python",
   "nbconvert_exporter": "python",
   "pygments_lexer": "ipython3",
   "version": "3.11.5"
  }
 },
 "nbformat": 4,
 "nbformat_minor": 5
}
